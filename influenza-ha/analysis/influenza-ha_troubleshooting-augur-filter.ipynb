{
 "cells": [
  {
   "cell_type": "markdown",
   "metadata": {},
   "source": [
    "# Augur for Influenza A - HA protein"
   ]
  },
  {
   "cell_type": "code",
   "execution_count": 1,
   "metadata": {},
   "outputs": [],
   "source": [
    "import json"
   ]
  },
  {
   "cell_type": "markdown",
   "metadata": {},
   "source": [
    "## Metadata is required\n",
    "\n",
    "Making metadata by parsing FASTA"
   ]
  },
  {
   "cell_type": "code",
   "execution_count": 60,
   "metadata": {
    "scrolled": false
   },
   "outputs": [],
   "source": [
    "from Bio import SeqIO\n",
    "import re\n",
    "\n",
    "\n",
    "records = []\n",
    "for record in SeqIO.parse(\"../data/fluHA_sequences.fasta\", \"fasta\"):\n",
    "    records.append(record.description)\n",
    "\n",
    "# Can I compile these regexes together? \n",
    "\n",
    "# Get strains\n",
    "strainsearch = re.compile('Strain Name:(?P<strain>.*\\d{2}|d{4})')\n",
    "\n",
    "# Get ids\n",
    "idsearch = re.compile('gb:(?P<id>[A-Z]+\\d+[:]\\d+[-]\\d{4})')\n",
    "# idsearch_exact = re.compile('(?P<id>gb:[A-Z]+\\d+[:]\\d+[-]\\d{4})')\n",
    "\n",
    "strainsList = []\n",
    "idList = []\n",
    "for record in records:\n",
    "        i = idsearch.search(record)\n",
    "#         i = idsearch_exact.search(record)\n",
    "        id = i.group('id')\n",
    "        idList.append(id)\n",
    "\n",
    "        s = strainsearch.search(record)\n",
    "        strain = s.group('strain')\n",
    "        strainsList.append(strain)\n",
    "\n",
    "\n",
    "# Get years\n",
    "yearsSearch = re.compile('(?P<year>\\d{4}$|\\d{2}$)')\n",
    "yearsList = []\n",
    "for strain in strainsList:\n",
    "    y = yearsSearch.search(strain)\n",
    "    year = y.group('year')\n",
    "    yearsList.append(year)\n",
    "    \n",
    "# Fix dates such that all years are 4 digits \n",
    "index = 0\n",
    "for year in yearsList:\n",
    "    if len(year) == 2:\n",
    "        yearsList[index] = '19' + year\n",
    "    index += 1\n",
    "\n",
    "# Fix dates such that dates are presented in yyyy-mm-dd format with X's where N/A\n",
    "index = 0\n",
    "for year in yearsList:\n",
    "    yearsList[index] = year + '-XX' + '-XX'\n",
    "    index += 1\n",
    "\n",
    "\n",
    "# Concatenate strain strings with id strings for unique identifiers\n",
    "newID = []\n",
    "counter = 0\n",
    "for id in idList:\n",
    "    newID.append(id + \"|\" + strainsList[counter])\n",
    "    \n",
    "    # Remove spaces\n",
    "    if \" \" in newID[counter]:\n",
    "        newID[counter] = newID[counter].replace(\" \", \"\")\n",
    "    counter += 1\n",
    "\n",
    "# for id in newID:\n",
    "#     print(id)\n",
    "# metadata has columns:\n",
    "# strain\tvirus\taccession\tdate\tregion\tcountry\tdivision\tcity\tdb\tsegment\n"
   ]
  },
  {
   "cell_type": "code",
   "execution_count": 61,
   "metadata": {},
   "outputs": [],
   "source": [
    "from Bio import SeqIO\n",
    "\n",
    "original_file = r\"../data/fluHA_sequences.fasta\"\n",
    "corrected_file = r\"../data/corrected.fasta\"\n",
    "\n",
    "position = 0\n",
    "with open(original_file) as original, open(corrected_file, 'w') as corrected:\n",
    "    records = SeqIO.parse(original_file, 'fasta')\n",
    "    for record in records:\n",
    "#         print(record.id)\n",
    "        record.id = newID[position]\n",
    "        record.description = newID[position]\n",
    "        position += 1\n",
    "#         print(record.id)             \n",
    "        SeqIO.write(record, corrected, 'fasta')"
   ]
  },
  {
   "cell_type": "code",
   "execution_count": 62,
   "metadata": {
    "scrolled": false
   },
   "outputs": [],
   "source": [
    "import pandas as pd\n",
    "\n",
    "# metadata_id = list(zip(fasta_ids, strainsList, yearsList))\n",
    "# metadata = list(zip(idList, strainsList, yearsList))\n",
    "metadata = list(zip(newID, yearsList))\n",
    "\n",
    "# df = pd.DataFrame(data = metadata, columns=['id', 'strain', 'year'])\n",
    "df = pd.DataFrame(data = metadata, columns=['strain', 'date'])\n",
    "\n",
    "df.to_csv('../data/metadata.tsv',sep='\\t',index=False,header=True)"
   ]
  },
  {
   "cell_type": "code",
   "execution_count": 9,
   "metadata": {
    "scrolled": true
   },
   "outputs": [],
   "source": [
    "!mkdir -p ../results/\n",
    "\n",
    "!augur filter \\\n",
    "  --sequences ../data/corrected.fasta \\\n",
    "  --metadata ../data/metadata.tsv \\\n",
    "  --exclude None \\\n",
    "  --output ../results/filtered.fasta \\\n",
    "  --group-by year \\\n",
    "  --sequences-per-group 2 \\\n",
    "  --min-date 1918"
   ]
  },
  {
   "cell_type": "markdown",
   "metadata": {},
   "source": [
    "### Does pairing down the zika metadata result in the same error?"
   ]
  },
  {
   "cell_type": "code",
   "execution_count": 11,
   "metadata": {
    "scrolled": true
   },
   "outputs": [],
   "source": [
    "zika = pd.read_csv(\"../data/metadata-Copy1.tsv\", sep='\\t')\n",
    "\n",
    "col_list = ['strain','date']\n",
    "newmeta = zika[col_list]\n",
    "newmeta.to_csv('../data/new-zika-metadata.tsv',sep='\\t',index=False,header=True)\n"
   ]
  },
  {
   "cell_type": "code",
   "execution_count": 12,
   "metadata": {
    "scrolled": true
   },
   "outputs": [
    {
     "name": "stdout",
     "output_type": "stream",
     "text": [
      "Traceback (most recent call last):\r\n",
      "  File \"/home/gboyle/.local/bin//augur\", line 11, in <module>\r\n",
      "    sys.exit(main())\r\n",
      "  File \"/home/gboyle/.local/lib/python3.6/site-packages/augur/__main__.py\", line 10, in main\r\n",
      "    return augur.run( argv[1:] )\r\n",
      "  File \"/home/gboyle/.local/lib/python3.6/site-packages/augur/__init__.py\", line 66, in run\r\n",
      "    return args.__command__.run(args)\r\n",
      "  File \"/home/gboyle/.local/lib/python3.6/site-packages/augur/filter.py\", line 293, in run\r\n",
      "    SeqIO.write(seq_to_keep, args.output, 'fasta')\r\n",
      "  File \"/home/gboyle/.local/lib/python3.6/site-packages/Bio/SeqIO/__init__.py\", line 529, in write\r\n",
      "    fp.write(format_function(record))\r\n",
      "AttributeError: 'NoneType' object has no attribute 'write'\r\n"
     ]
    }
   ],
   "source": [
    "!mkdir -p ../results/\n",
    "\n",
    "!augur filter \\\n",
    "  --sequences ../data/sequences-Copy1.fasta \\\n",
    "  --metadata ../data/new-zika-metadata.tsv \\\n",
    "  #--exclude zika-tutorial/config/dropped_strains.txt \\\n",
    "  --output ../results/filtered.fasta \\\n",
    "#   --group-by year \\\n",
    "#   --sequences-per-group 2 \\\n",
    "#   --min-date 1918"
   ]
  },
  {
   "cell_type": "markdown",
   "metadata": {},
   "source": [
    "### How much of the metadata can we remove and still have it survive the `augur filter` command?"
   ]
  },
  {
   "cell_type": "markdown",
   "metadata": {},
   "source": [
    "Can we remove a single item from the metadata file?\n",
    "\n",
    "Removed paper_url"
   ]
  },
  {
   "cell_type": "code",
   "execution_count": 13,
   "metadata": {},
   "outputs": [],
   "source": [
    "zika = pd.read_csv(\"../data/metadata-Copy1.tsv\", sep='\\t')\n",
    "\n",
    "newmeta = zika.drop(['paper_url'], axis=1)\n",
    "newmeta.to_csv('../data/new-zika-metadata.tsv',sep='\\t',index=False,header=True)\n",
    "# metadata has columns:\n",
    "# strain\tvirus\taccession\tdate\tregion\tcountry\tdivision\tcity\tdb\tsegment\tauthors\turl\ttitle\tjournal\tpaper_url"
   ]
  },
  {
   "cell_type": "code",
   "execution_count": 14,
   "metadata": {
    "scrolled": false
   },
   "outputs": [
    {
     "name": "stdout",
     "output_type": "stream",
     "text": [
      "Traceback (most recent call last):\r\n",
      "  File \"/home/gboyle/.local/bin//augur\", line 11, in <module>\r\n",
      "    sys.exit(main())\r\n",
      "  File \"/home/gboyle/.local/lib/python3.6/site-packages/augur/__main__.py\", line 10, in main\r\n",
      "    return augur.run( argv[1:] )\r\n",
      "  File \"/home/gboyle/.local/lib/python3.6/site-packages/augur/__init__.py\", line 66, in run\r\n",
      "    return args.__command__.run(args)\r\n",
      "  File \"/home/gboyle/.local/lib/python3.6/site-packages/augur/filter.py\", line 293, in run\r\n",
      "    SeqIO.write(seq_to_keep, args.output, 'fasta')\r\n",
      "  File \"/home/gboyle/.local/lib/python3.6/site-packages/Bio/SeqIO/__init__.py\", line 529, in write\r\n",
      "    fp.write(format_function(record))\r\n",
      "AttributeError: 'NoneType' object has no attribute 'write'\r\n"
     ]
    }
   ],
   "source": [
    "!mkdir -p ../results/\n",
    "\n",
    "!augur filter \\\n",
    "  --sequences ../data/sequences-Copy1.fasta \\\n",
    "  --metadata ../data/new-zika-metadata.tsv \\\n",
    "  #--exclude zika-tutorial/config/dropped_strains.txt \\\n",
    "  --output ../results/filtered.fasta \\\n",
    "#   --group-by year \\\n",
    "#   --sequences-per-group 2 \\\n",
    "#   --min-date 1918"
   ]
  },
  {
   "cell_type": "markdown",
   "metadata": {},
   "source": [
    "Turns out `augur filter` just didn't like that there was no `--exclude` command. `--exclude None` resolves the issue."
   ]
  },
  {
   "cell_type": "code",
   "execution_count": 23,
   "metadata": {
    "scrolled": false
   },
   "outputs": [],
   "source": [
    "# Test with zika-tutorial data \n",
    "!mkdir -p ../results/\n",
    "\n",
    "!augur filter \\\n",
    "  --sequences ../data/sequences-Copy1.fasta \\\n",
    "  --metadata ../data/metadata-Copy1.tsv \\\n",
    "  --exclude None#zika-tutorial/config/dropped_strains.txt \\\n",
    "  --output ../results/filtered.fasta \\\n",
    "  --group-by year \\\n",
    "  --sequences-per-group 20 \\\n",
    "  --min-date 2012"
   ]
  },
  {
   "cell_type": "markdown",
   "metadata": {},
   "source": [
    "### Resume augur"
   ]
  },
  {
   "cell_type": "code",
   "execution_count": 10,
   "metadata": {},
   "outputs": [
    {
     "name": "stdout",
     "output_type": "stream",
     "text": [
      "\r\n",
      "using mafft to align via:\r\n",
      "\tmafft --reorder --anysymbol --thread 1 ../results/filtered.fasta 1> ../results/aligned.fasta 2> ../results/aligned.fasta.log \r\n",
      "\r\n",
      "\tKatoh et al, Nucleic Acid Research, vol 30, issue 14\r\n",
      "\thttps://doi.org/10.1093%2Fnar%2Fgkf436\r\n",
      "\r\n"
     ]
    }
   ],
   "source": [
    "!augur align \\\n",
    "  --sequences ../results/filtered.fasta \\\n",
    "  --output ../results/aligned.fasta "
   ]
  },
  {
   "cell_type": "code",
   "execution_count": 11,
   "metadata": {},
   "outputs": [
    {
     "name": "stdout",
     "output_type": "stream",
     "text": [
      "Building a tree via:\n",
      "\tiqtree -ninit 2 -n 2 -me 0.05 -nt 1 -s ../results/aligned-delim.fasta -m GTR > ../results/aligned-delim.iqtree.log\n",
      "\tNguyen et al: IQ-TREE: A fast and effective stochastic algorithm for estimating maximum likelihood phylogenies.\n",
      "\tMol. Biol. Evol., 32:268-274. https://doi.org/10.1093/molbev/msu300\n",
      "\n",
      "Building original tree took 0.8095102310180664 seconds\n"
     ]
    }
   ],
   "source": [
    "!augur tree \\\n",
    "  --alignment ../results/aligned.fasta \\\n",
    "  --output ../results/tree_raw.nwk"
   ]
  },
  {
   "cell_type": "code",
   "execution_count": 12,
   "metadata": {
    "scrolled": false
   },
   "outputs": [
    {
     "name": "stdout",
     "output_type": "stream",
     "text": [
      "\n",
      "   /-CY021709_19-1719|A/AA/Huston/1945\n",
      "  |\n",
      "  |   /-CY020285_11-1711|A/AA/Marton/1943\n",
      "  |--|\n",
      "  |   \\-CY020461_11-1708|A/Iowa/1943\n",
      "  |\n",
      "  |         /-CY009276_19-1719|A/Bel/1942\n",
      "  |      /-|\n",
      "  |     |   \\-CY146769_19-1719|A/Bellamy/JY2/1942\n",
      "  |     |\n",
      "  |     |                  /-CY019955_11-1708|A/Alaska/1935\n",
      "  |     |               /-|\n",
      "  |     |            /-|   \\-Z54287_1-1728|A/Mongolia/153/88\n",
      "  |     |           |  |\n",
      "  |     |         /-|   \\-CY146881_4-1701|A/PuertoRico/8-CV10/1934\n",
      "  |   /-|        |  |\n",
      "  |  |  |      /-|   \\-CY146857_4-1701|A/PuertoRico/8-SV40/1934\n",
      "  |  |  |     |  |\n",
      "  |  |  |   /-|   \\-CY020445_11-1711|A/Henry/1936\n",
      "  |  |  |  |  |\n",
      "--|  |  |  |   \\-CY009324_19-1719|A/Melbourne/1935\n",
      "  |  |  |  |\n",
      "  |  |  |  |         /-U08903_1-1746|A/NWS/1933\n",
      "  |  |   \\-|      /-|\n",
      "  |  |     |   /-|   \\-CY010788_20-1717|A/WSN/1933TS61\n",
      "  |  |     |  |  |\n",
      "  |  |     |  |   \\-CY045756_1-1701|A/UnitedKingdom/1/1933\n",
      "  |  |     |  |\n",
      "  |  |     |  |      /-S62154_33-1733|A/AlmaAta/1417/84\n",
      "  |  |      \\-|     |\n",
      "  |  |        |   /-|      /-CY044365_1-1701|A/NewJersey/11/1976\n",
      "  |  |        |  |  |   /-|\n",
      "  |  |        |  |  |  |   \\-CY147414_14-1714|A/NewJersey/Swiss/1976\n",
      "  |  |        |  |   \\-|\n",
      "  |  |        |  |     |   /-CY024925_17-1717|A/Ohio/3559/1988\n",
      "  |  |         \\-|      \\-|\n",
      "  |  |           |        |   /-U53162_1-1778|A/Wisconsin/4754/1994\n",
      "  |  |           |         \\-|\n",
      "  |  |           |            \\-U53163_1-1778|A/Wisconsin/4755/1994\n",
      "  |  |           |\n",
      "  |  |            \\-AF117241_1-1701|A/SouthCarolina/1/18\n",
      "   \\-|\n",
      "     |               /-CY021821_17-1717|A/Albany/12/1951\n",
      "     |            /-|\n",
      "     |           |  |   /-CY021053_11-1711|A/Malaya/302/1954\n",
      "     |           |   \\-|\n",
      "     |           |      \\-CY146785_20-1720|A/Malaysia/JY2/1954\n",
      "     |         /-|\n",
      "     |        |  |         /-CY146793_20-1717|A/Denver/JY2/1957\n",
      "     |        |  |      /-|\n",
      "     |        |  |   /-|   \\-CY125862_20-1717|A/Kw/1/1957\n",
      "     |        |  |  |  |\n",
      "     |        |   \\-|   \\-CY077748_33-1733|A/Netherlands/001R1/1953\n",
      "     |      /-|     |\n",
      "     |     |  |      \\-CY009332_20-1720|A/FortWarren/1/1950\n",
      "     |     |  |\n",
      "     |     |  |      /-CY087784_21-1721|A/FortMonmouth/1-MA/1947\n",
      "     |     |  |   /-|\n",
      "     |     |  |  |   \\-U02085_1-1778|A/FortMonmouth/1/1947\n",
      "     |     |   \\-|\n",
      "     |   /-|     |   /-CY077719_33-1733|A/Netherlands/001G1/1950\n",
      "     |  |  |      \\-|\n",
      "     |  |  |         \\-CY077763_29-1729|A/Netherlands/002K1/1949\n",
      "     |  |  |\n",
      "     |  |  |      /-CY009596_20-1720|A/Cam/46\n",
      "     |  |  |   /-|\n",
      "     |  |  |  |  |   /-CY013271_11-1711|A/Hickox/1940\n",
      "      \\-|   \\-|   \\-|\n",
      "        |     |      \\-CY146777_11-1711|A/Hickox/JY2/1940\n",
      "        |     |\n",
      "        |      \\-CY147350_11-1711|A/Cameron/JY2/1946\n",
      "        |\n",
      "        |   /-CY019947_11-1711|A/Albany/4835/1948\n",
      "        |  |\n",
      "        |  |   /-CY019971_11-1711|A/Roma/1949\n",
      "         \\-|  |\n",
      "           |  |   /-CY147374_4-1704|A/FLW/1951\n",
      "           |  |  |\n",
      "            \\-|  |         /-CY010868_11-1711|A/Memphis/10/1978\n",
      "              |  |      /-|\n",
      "              |  |     |  |   /-CY010876_20-1720|A/Memphis/11/1978\n",
      "              |  |     |   \\-|\n",
      "               \\-|   /-|      \\-CY121878_21-1721|A/USSR/90/1977\n",
      "                 |  |  |\n",
      "                 |  |  |   /-CY009284_20-1720|A/USSR/92/1977\n",
      "                 |  |   \\-|\n",
      "                 |  |      \\-Z54286_1-1731|A/Mongolia/231/85\n",
      "                 |  |\n",
      "                  \\-|      /-CY026411_1-1701|A/Albany/8/1979\n",
      "                    |   /-|\n",
      "                    |  |   \\-CY021909_11-1711|A/USSR/46/1979\n",
      "                    |  |\n",
      "                    |  |   /-CY020181_12-1712|A/Maryland/2/1980\n",
      "                    |  |  |\n",
      "                     \\-|  |      /-CY021029_2-1702|A/Baylor/4052/1981\n",
      "                       |  |   /-|\n",
      "                       |  |  |   \\-CY010364_20-1720|A/Baylor/11515/1982\n",
      "                       |  |  |\n",
      "                       |  |  |         /-CY021037_19-1719|A/Christ_sHospital/157/1982\n",
      "                       |  |  |      /-|\n",
      "                        \\-|  |     |  |   /-CY020485_1-1701|A/Tonga/14/1984\n",
      "                          |  |   /-|   \\-|\n",
      "                          |  |  |  |      \\-AJ289702_1-1779|A/Fiji/15899/83\n",
      "                          |  |  |  |\n",
      "                          |  |  |   \\-CY010932_20-1720|A/Memphis/7/1983\n",
      "                          |  |  |\n",
      "                          |  |  |   /-CY020453_11-1711|A/India/6263/1980\n",
      "                          |  |  |  |\n",
      "                           \\-|  |  |                           /-EU097935_1-1701|A/Denmark/6/2001\n",
      "                             |  |  |                        /-|\n",
      "                             |  |  |                       |  |   /-JX477160_1-1701|A/Moscow/13/1998\n",
      "                             |  |  |                     /-|   \\-|\n",
      "                             |  |  |                    |  |      \\-AF386774_33-1733|A/Switzerland/5389/95\n",
      "                             |  |  |                    |  |\n",
      "                             |  |  |                  /-|   \\-CY012856_11-1711|A/NewYork/630/1995\n",
      "                             |  |  |                 |  |\n",
      "                             |  |  |                 |  |   /-CY125036_21-1721|A/Wellington/47/1992\n",
      "                             |  |  |               /-|   \\-|\n",
      "                             |  |  |              |  |      \\-JX477164_1-1701|A/Wellington/47/1992\n",
      "                             |  |  |              |  |\n",
      "                             |  |  |              |  |   /-CY125044_21-1721|A/Florida/2/1993\n",
      "                             |  |  |            /-|   \\-|\n",
      "                              \\-|  |           |  |      \\-JX477159_1-1701|A/Florida/2/1993\n",
      "                                |  |           |  |\n",
      "                                |  |           |  |   /-CY147382_6-1706|A/Texas/36-JY2/1991\n",
      "                                |  |           |   \\-|\n",
      "                                |  |           |      \\-AY289927_33-1733|A/Texas/36/91\n",
      "                                |  |           |\n",
      "                                |  |           |               /-JX477157_1-1698|A/Bangkok/163/2000\n",
      "                                |  |           |            /-|\n",
      "                                |  |           |           |  |   /-CY125164_21-1718|A/Russia/2187/2002\n",
      "                                |  |           |           |   \\-|\n",
      "                                |  |           |           |      \\-CY010236_20-1717|A/Canterbury/40/2001\n",
      "                                |  |           |           |\n",
      "                                |  |           |           |      /-DQ508857_1-1698|A/NewCaledonia/20/1999\n",
      "                                |  |           |         /-|   /-|\n",
      "                                |  |           |        |  |  |   \\-AY289929_1-1698|A/NewCaledonia/20/1999\n",
      "                                |  |           |        |  |  |\n",
      "                                |  |           |        |  |  |   /-CY013032_12-1709|A/Wellington/18/2000\n",
      "                                |  |           |        |  |  |  |\n",
      "                                |  |           |        |  |  |  |                  /-FJ231764_1-1698|A/Bremen/5/2005\n",
      "                                |  |           |        |  |  |  |               /-|\n",
      "                                |  |           |        |   \\-|  |              |  |   /-EU097943_1-1698|A/Denmark/17/2004\n",
      "                                 \\-|           |        |     |  |            /-|   \\-|\n",
      "                                   |           |        |     |  |           |  |      \\-CY017315_12-1709|A/Waikato/4/2005\n",
      "                                   |         /-|        |     |  |           |  |\n",
      "                                   |        |  |        |     |  |         /-|   \\-CY026947_17-1714|A/Ohio/UR06-0518/2007\n",
      "                                   |        |  |        |     |  |        |  |\n",
      "                                   |        |  |        |     |  |        |  |   /-CY002624_33-1730|A/NewYork/230/2003\n",
      "                                   |        |  |        |      \\-|      /-|   \\-|\n",
      "                                   |        |  |        |        |     |  |      \\-LK054732_1-1775|A/Paris/650/2004\n",
      "                                   |        |  |        |        |     |  |\n",
      "                                   |        |  |        |        |     |   \\-CY006915_22-1719|A/NewYork/488/2003\n",
      "                                   |        |  |      /-|        |     |\n",
      "                                   |        |  |     |  |        |     |         /-FJ687024_1-1698|A/Delaware/01/2008\n",
      "                                   |        |  |     |  |        |   /-|      /-|\n",
      "                                   |        |  |     |  |        |  |  |     |   \\-CY038919_1-1698|A/Managua/107.01/2008\n",
      "                                   |        |  |     |  |        |  |  |     |\n",
      "                                   |        |  |     |  |        |  |  |   /-|      /-EU382983_1-1775|A/Guangzhou/555/2006\n",
      "                                   |        |  |     |  |        |  |  |  |  |   /-|\n",
      "                                   |        |  |     |  |        |  |  |  |  |  |   \\-CY118083_18-1715|A/Malaysia/1788397/2007\n",
      "                                   |        |  |     |  |         \\-|  |  |   \\-|\n",
      "                                   |      /-|  |     |  |           |   \\-|     |   /-EU100725_1-1698|A/St.Petersburg/08/2006_H1N1__X-163\n",
      "                                   |     |  |  |   /-|  |           |     |      \\-|\n",
      "                                   |     |  |  |  |  |  |           |     |         \\-EU100726_1-1698|A/St.Petersburg/08/2006_H1N1__X-163\n",
      "                                   |     |  |  |  |  |  |           |     |\n",
      "                                   |     |  |  |  |  |  |           |      \\-CY036684_1-1698|A/Norway/2159/2006\n",
      "                                   |     |  |  |  |  |  |           |\n",
      "                                   |     |  |  |  |  |  |            \\-CY104004_18-1715|A/HaNoi/2546/2002\n",
      "                                   |     |  |  |  |  |  |\n",
      "                                   |     |  |   \\-|  |  |   /-CY119074_18-1715|A/Malaysia/11642/1997\n",
      "                                   |     |  |     |  |   \\-|\n",
      "                                   |   /-|  |     |  |      \\-CY125092_11-1708|A/Ostrava/801/1998\n",
      "                                   |  |  |  |     |  |\n",
      "                                   |  |  |  |     |   \\-CY125076_11-1708|A/Shanghai/2/1997\n",
      "                                   |  |  |  |     |\n",
      "                                   |  |  |  |     |   /-CY017011_2-1699|A/Nanchang/14/1996\n",
      "                                   |  |  |  |      \\-|\n",
      "                                   |  |  |  |         \\-CY016244_11-1708|A/Nanchang/23/1996\n",
      "                                   |  |  |  |\n",
      "                                    \\-|  |   \\-CY036823_14-1714|A/Siena/10/1989\n",
      "                                      |  |\n",
      "                                      |   \\-CY036943_1-1701|A/Siena/9/1989\n",
      "                                      |\n",
      "                                      |         /-CY019771_11-1711|A/Memphis/3/1987\n",
      "                                      |      /-|\n",
      "                                      |   /-|   \\-CY021733_1-1701|A/NewYork/2924-1/1986\n",
      "                                      |  |  |\n",
      "                                       \\-|   \\-CY019779_11-1711|A/Memphis/4/1987\n",
      "                                         |\n",
      "                                          \\-DQ508873_1-1701|A/Taiwan/01/1986\n"
     ]
    }
   ],
   "source": [
    "from ete3 import Tree\n",
    "\n",
    "\n",
    "tree_raw = Tree(\"../results/tree_raw.nwk\")\n",
    "print(tree_raw)"
   ]
  },
  {
   "cell_type": "code",
   "execution_count": 4,
   "metadata": {},
   "outputs": [
    {
     "name": "stdout",
     "output_type": "stream",
     "text": [
      "\n",
      "0.17\t***WARNING: TreeAnc._attach_sequences_to_nodes: NO SEQUENCE FOR LEAF: CY021709_19-1719|A/AA/Huston/1945\n",
      "\n",
      "0.17\t***WARNING: TreeAnc._attach_sequences_to_nodes: NO SEQUENCE FOR LEAF: CY020285_11-1711|A/AA/Marton/1943\n",
      "\n",
      "0.18\t***WARNING: TreeAnc._attach_sequences_to_nodes: NO SEQUENCE FOR LEAF: CY020461_11-1708|A/Iowa/1943\n",
      "\n",
      "0.18\t***WARNING: TreeAnc._attach_sequences_to_nodes: NO SEQUENCE FOR LEAF: CY009276_19-1719|A/Bel/1942\n",
      "\n",
      "0.18\t***WARNING: TreeAnc._attach_sequences_to_nodes: NO SEQUENCE FOR LEAF: CY146769_19-1719|A/Bellamy/JY2/1942\n",
      "\n",
      "0.18\t***WARNING: TreeAnc._attach_sequences_to_nodes: NO SEQUENCE FOR LEAF: CY045772_1-1701|A/Melbourne/1/1946\n",
      "\n",
      "0.18\t***WARNING: TreeAnc._attach_sequences_to_nodes: NO SEQUENCE FOR LEAF: CY020445_11-1711|A/Henry/1936\n",
      "\n",
      "0.18\t***WARNING: TreeAnc._attach_sequences_to_nodes: NO SEQUENCE FOR LEAF: CY009444_20-1717|A/PuertoRico/8/1934\n",
      "\n",
      "0.18\t***WARNING: TreeAnc._attach_sequences_to_nodes: NO SEQUENCE FOR LEAF: AF389118_33-1730|A/PuertoRico/8/34\n",
      "\n",
      "0.18\t***WARNING: TreeAnc._attach_sequences_to_nodes: NO SEQUENCE FOR LEAF: CY045756_1-1701|A/UnitedKingdom/1/1933\n",
      "\n",
      "0.19\t***WARNING: TreeAnc._attach_sequences_to_nodes: NO SEQUENCE FOR LEAF: CY096811_11-1711|A/bh/1935\n",
      "\n",
      "0.19\t***WARNING: TreeAnc._attach_sequences_to_nodes: NO SEQUENCE FOR LEAF: CY147326_20-1720|A/BH/JY2/1935\n",
      "\n",
      "0.19\t***WARNING: TreeAnc._attach_sequences_to_nodes: NO SEQUENCE FOR LEAF: CY010788_20-1717|A/WSN/1933TS61\n",
      "\n",
      "0.19\t***WARNING: TreeAnc._attach_sequences_to_nodes: NO SEQUENCE FOR LEAF: CY034132_6-1703|A/WSN/1933\n",
      "\n",
      "0.19\t***WARNING: TreeAnc._attach_sequences_to_nodes: NO SEQUENCE FOR LEAF: AF117241_1-1701|A/SouthCarolina/1/18\n",
      "\n",
      "0.20\t***WARNING: TreeAnc._attach_sequences_to_nodes: NO SEQUENCE FOR LEAF: S62154_33-1733|A/AlmaAta/1417/84\n",
      "\n",
      "0.20\t***WARNING: TreeAnc._attach_sequences_to_nodes: NO SEQUENCE FOR LEAF: CY130118_21-1721|A/NewJersey/8/1976\n",
      "\n",
      "0.20\t***WARNING: TreeAnc._attach_sequences_to_nodes: NO SEQUENCE FOR LEAF: CY177464_17-1717|A/Wisconsin/263/1976\n",
      "\n",
      "0.20\t***WARNING: TreeAnc._attach_sequences_to_nodes: NO SEQUENCE FOR LEAF: CY024925_17-1717|A/Ohio/3559/1988\n",
      "\n",
      "0.20\t***WARNING: TreeAnc._attach_sequences_to_nodes: NO SEQUENCE FOR LEAF: U53162_1-1778|A/Wisconsin/4754/1994\n",
      "\n",
      "0.20\t***WARNING: TreeAnc._attach_sequences_to_nodes: NO SEQUENCE FOR LEAF: U53163_1-1778|A/Wisconsin/4755/1994\n",
      "\n",
      "0.20\t***WARNING: TreeAnc._attach_sequences_to_nodes: NO SEQUENCE FOR LEAF: CY147350_11-1711|A/Cameron/JY2/1946\n",
      "\n",
      "0.20\t***WARNING: TreeAnc._attach_sequences_to_nodes: NO SEQUENCE FOR LEAF: CY013271_11-1711|A/Hickox/1940\n",
      "\n",
      "0.20\t***WARNING: TreeAnc._attach_sequences_to_nodes: NO SEQUENCE FOR LEAF: CY146777_11-1711|A/Hickox/JY2/1940\n",
      "\n",
      "0.20\t***WARNING: TreeAnc._attach_sequences_to_nodes: NO SEQUENCE FOR LEAF: CY077719_33-1733|A/Netherlands/001G1/1950\n",
      "\n",
      "0.21\t***WARNING: TreeAnc._attach_sequences_to_nodes: NO SEQUENCE FOR LEAF: CY087784_21-1721|A/FortMonmouth/1-MA/1947\n",
      "\n",
      "0.21\t***WARNING: TreeAnc._attach_sequences_to_nodes: NO SEQUENCE FOR LEAF: CY045780_1-1701|A/FortMonmouth/1/1947\n",
      "\n",
      "0.21\t***WARNING: TreeAnc._attach_sequences_to_nodes: NO SEQUENCE FOR LEAF: CY146785_20-1720|A/Malaysia/JY2/1954\n",
      "\n",
      "0.21\t***WARNING: TreeAnc._attach_sequences_to_nodes: NO SEQUENCE FOR LEAF: CY021821_17-1717|A/Albany/12/1951\n",
      "\n",
      "0.21\t***WARNING: TreeAnc._attach_sequences_to_nodes: NO SEQUENCE FOR LEAF: CY077889_33-1733|A/Liverpool/1951\n",
      "\n",
      "0.21\t***WARNING: TreeAnc._attach_sequences_to_nodes: NO SEQUENCE FOR LEAF: CY146793_20-1717|A/Denver/JY2/1957\n",
      "\n",
      "0.21\t***WARNING: TreeAnc._attach_sequences_to_nodes: NO SEQUENCE FOR LEAF: CY125862_20-1717|A/Kw/1/1957\n",
      "\n",
      "0.21\t***WARNING: TreeAnc._attach_sequences_to_nodes: NO SEQUENCE FOR LEAF: CY077725_33-1733|A/Netherlands/001H1/1954\n",
      "\n",
      "0.21\tERROR: At least 30\\% terminal nodes cannot be assigned with a sequence!\n",
      "\n",
      "\n",
      "0.21\t***WARNING: TreeAnc: 33 nodes don't have a matching sequence in the alignment. POSSIBLE ERROR.\n",
      "\n",
      "0.26\t-ERROR: ALMOST NO VALID DATE CONSTRAINTS, EXITING\n",
      "Traceback (most recent call last):\n",
      "  File \"/home/gboyle/.local/bin//augur\", line 11, in <module>\n",
      "    sys.exit(main())\n",
      "  File \"/home/gboyle/.local/lib/python3.6/site-packages/augur/__main__.py\", line 10, in main\n",
      "    return augur.run( argv[1:] )\n",
      "  File \"/home/gboyle/.local/lib/python3.6/site-packages/augur/__init__.py\", line 66, in run\n",
      "    return args.__command__.run(args)\n",
      "  File \"/home/gboyle/.local/lib/python3.6/site-packages/augur/refine.py\", line 187, in run\n",
      "    clock_filter_iqd=args.clock_filter_iqd)\n",
      "  File \"/home/gboyle/.local/lib/python3.6/site-packages/augur/refine.py\", line 36, in refine\n",
      "    verbose=verbosity, gtr='JC69')\n",
      "  File \"/home/gboyle/.local/lib/python3.6/site-packages/treetime/treetime.py\", line 31, in __init__\n",
      "    super(TreeTime, self).__init__(*args, **kwargs)\n",
      "  File \"/home/gboyle/.local/lib/python3.6/site-packages/treetime/clock_tree.py\", line 75, in __init__\n",
      "    raise ValueError(\"ClockTree requires date constraints!\")\n",
      "ValueError: ClockTree requires date constraints!\n"
     ]
    }
   ],
   "source": [
    "!augur refine \\\n",
    "  --tree ../results/tree_raw.nwk \\\n",
    "  --alignment ../results/aligned.fasta \\\n",
    "  --metadata ../data/metadata.tsv \\\n",
    "  --output-tree ../results/tree.nwk \\\n",
    "  --output-node-data ../results/branch_lengths.json \\\n",
    "  --timetree \\\n",
    "  --coalescent opt \\\n",
    "  --date-confidence \\\n",
    "  --date-inference joint \n",
    "#   --clock-filter-iqd 4"
   ]
  }
 ],
 "metadata": {
  "kernelspec": {
   "display_name": "Python 3",
   "language": "python",
   "name": "python3"
  },
  "language_info": {
   "codemirror_mode": {
    "name": "ipython",
    "version": 3
   },
   "file_extension": ".py",
   "mimetype": "text/x-python",
   "name": "python",
   "nbconvert_exporter": "python",
   "pygments_lexer": "ipython3",
   "version": "3.6.7"
  }
 },
 "nbformat": 4,
 "nbformat_minor": 2
}
