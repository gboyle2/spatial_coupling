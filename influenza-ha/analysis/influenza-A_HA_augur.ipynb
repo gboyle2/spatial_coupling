{
 "cells": [
  {
   "cell_type": "markdown",
   "metadata": {},
   "source": [
    "# Augur for Influenza A - HA protein"
   ]
  },
  {
   "cell_type": "code",
   "execution_count": 1,
   "metadata": {},
   "outputs": [],
   "source": [
    "import json"
   ]
  },
  {
   "cell_type": "markdown",
   "metadata": {},
   "source": [
    "## Metadata is required\n",
    "\n",
    "Making metadata by parsing FASTA"
   ]
  },
  {
   "cell_type": "code",
   "execution_count": 1,
   "metadata": {
    "scrolled": true
   },
   "outputs": [],
   "source": [
    "from Bio import SeqIO\n",
    "import re\n",
    "\n",
    "\n",
    "records = []\n",
    "for record in SeqIO.parse(\"../data/fluHA_sequences.fasta\", \"fasta\"):\n",
    "    records.append(record.description)\n",
    "\n",
    "# Can I compile these regexes together? \n",
    "\n",
    "# Get strains\n",
    "strainsearch = re.compile('Strain Name:(?P<strain>.*\\d{2}|d{4})')\n",
    "\n",
    "# Get ids\n",
    "idsearch = re.compile('gb:(?P<id>[A-Z]+\\d+[:]\\d+[-]\\d{4})')\n",
    "# idsearch_exact = re.compile('(?P<id>gb:[A-Z]+\\d+[:]\\d+[-]\\d{4})')\n",
    "\n",
    "strainsList = []\n",
    "idList = []\n",
    "for record in records:\n",
    "        i = idsearch.search(record)\n",
    "#         i = idsearch_exact.search(record)\n",
    "        id = i.group('id')\n",
    "        idList.append(id)\n",
    "\n",
    "        s = strainsearch.search(record)\n",
    "        strain = s.group('strain')\n",
    "        strainsList.append(strain)\n",
    "\n",
    "\n",
    "# Get years\n",
    "yearsSearch = re.compile('(?P<year>\\d{4}$|\\d{2}$)')\n",
    "yearsList = []\n",
    "for strain in strainsList:\n",
    "    y = yearsSearch.search(strain)\n",
    "    year = y.group('year')\n",
    "    yearsList.append(year)\n",
    "\n",
    "# Concatenate strain strings with id strings for unique identifiers\n",
    "newID = []\n",
    "counter = 0\n",
    "for id in idList:\n",
    "    newID.append(id + \"|\" + strainsList[counter])\n",
    "    \n",
    "    # Remove spaces\n",
    "    if \" \" in newID[counter]:\n",
    "        newID[counter] = newID[counter].replace(\" \", \"\")\n",
    "    counter += 1\n",
    "\n",
    "# for id in newID:\n",
    "#     print(id)\n",
    "# metadata has columns:\n",
    "# strain\tvirus\taccession\tdate\tregion\tcountry\tdivision\tcity\tdb\tsegment\n"
   ]
  },
  {
   "cell_type": "code",
   "execution_count": 2,
   "metadata": {},
   "outputs": [],
   "source": [
    "from Bio import SeqIO\n",
    "\n",
    "original_file = r\"../data/fluHA_sequences.fasta\"\n",
    "corrected_file = r\"../data/corrected.fasta\"\n",
    "\n",
    "position = 0\n",
    "with open(original_file) as original, open(corrected_file, 'w') as corrected:\n",
    "    records = SeqIO.parse(original_file, 'fasta')\n",
    "    for record in records:\n",
    "#         print(record.id)\n",
    "        record.id = newID[position]\n",
    "        record.description = newID[position]\n",
    "        position += 1\n",
    "#         print(record.id)             \n",
    "        SeqIO.write(record, corrected, 'fasta')"
   ]
  },
  {
   "cell_type": "code",
   "execution_count": 3,
   "metadata": {
    "scrolled": false
   },
   "outputs": [],
   "source": [
    "import pandas as pd\n",
    "\n",
    "# metadata_id = list(zip(fasta_ids, strainsList, yearsList))\n",
    "# metadata = list(zip(idList, strainsList, yearsList))\n",
    "metadata = list(zip(newID, yearsList))\n",
    "\n",
    "# df = pd.DataFrame(data = metadata, columns=['id', 'strain', 'year'])\n",
    "df = pd.DataFrame(data = metadata, columns=['strain', 'year'])\n",
    "\n",
    "df.to_csv('../data/metadata.tsv',sep='\\t',index=False,header=True)"
   ]
  },
  {
   "cell_type": "code",
   "execution_count": 4,
   "metadata": {
    "scrolled": true
   },
   "outputs": [
    {
     "name": "stdout",
     "output_type": "stream",
     "text": [
      "Traceback (most recent call last):\r\n",
      "  File \"/home/gboyle/.local/bin//augur\", line 11, in <module>\r\n",
      "    sys.exit(main())\r\n",
      "  File \"/home/gboyle/.local/lib/python3.6/site-packages/augur/__main__.py\", line 10, in main\r\n",
      "    return augur.run( argv[1:] )\r\n",
      "  File \"/home/gboyle/.local/lib/python3.6/site-packages/augur/__init__.py\", line 66, in run\r\n",
      "    return args.__command__.run(args)\r\n",
      "  File \"/home/gboyle/.local/lib/python3.6/site-packages/augur/filter.py\", line 293, in run\r\n",
      "    SeqIO.write(seq_to_keep, args.output, 'fasta')\r\n",
      "  File \"/home/gboyle/.local/lib/python3.6/site-packages/Bio/SeqIO/__init__.py\", line 529, in write\r\n",
      "    fp.write(format_function(record))\r\n",
      "AttributeError: 'NoneType' object has no attribute 'write'\r\n"
     ]
    }
   ],
   "source": [
    "!mkdir -p ../results/\n",
    "\n",
    "!augur filter \\\n",
    "  --sequences ../data/corrected.fasta \\\n",
    "  --metadata ../data/metadata.tsv \\\n",
    "  #--exclude zika-tutorial/config/dropped_strains.txt \\\n",
    "  --output ../results/filtered.fasta \\\n",
    "  --group-by year \\\n",
    "  --sequences-per-group 2 \\\n",
    "#   --min-date 1918"
   ]
  },
  {
   "cell_type": "markdown",
   "metadata": {},
   "source": [
    "### Does pairing down the zika metadata result in the same error?"
   ]
  },
  {
   "cell_type": "code",
   "execution_count": 5,
   "metadata": {
    "scrolled": true
   },
   "outputs": [],
   "source": [
    "zika = pd.read_csv(\"../data/metadata-Copy1.tsv\", sep='\\t')\n",
    "\n",
    "col_list = ['strain','date']\n",
    "newmeta = zika[col_list]\n",
    "newmeta.to_csv('../data/new-zika-metadata.tsv',sep='\\t',index=False,header=True)\n"
   ]
  },
  {
   "cell_type": "code",
   "execution_count": 294,
   "metadata": {
    "scrolled": true
   },
   "outputs": [
    {
     "name": "stdout",
     "output_type": "stream",
     "text": [
      "Traceback (most recent call last):\r\n",
      "  File \"/home/gboyle/.local/bin//augur\", line 11, in <module>\r\n",
      "    sys.exit(main())\r\n",
      "  File \"/home/gboyle/.local/lib/python3.6/site-packages/augur/__main__.py\", line 10, in main\r\n",
      "    return augur.run( argv[1:] )\r\n",
      "  File \"/home/gboyle/.local/lib/python3.6/site-packages/augur/__init__.py\", line 66, in run\r\n",
      "    return args.__command__.run(args)\r\n",
      "  File \"/home/gboyle/.local/lib/python3.6/site-packages/augur/filter.py\", line 293, in run\r\n",
      "    SeqIO.write(seq_to_keep, args.output, 'fasta')\r\n",
      "  File \"/home/gboyle/.local/lib/python3.6/site-packages/Bio/SeqIO/__init__.py\", line 529, in write\r\n",
      "    fp.write(format_function(record))\r\n",
      "AttributeError: 'NoneType' object has no attribute 'write'\r\n"
     ]
    }
   ],
   "source": [
    "!mkdir -p ../results/\n",
    "\n",
    "!augur filter \\\n",
    "  --sequences ../data/sequences-Copy1.fasta \\\n",
    "  --metadata ../data/new-zika-metadata.tsv \\\n",
    "  #--exclude zika-tutorial/config/dropped_strains.txt \\\n",
    "  --output ../results/filtered.fasta \\\n",
    "  --group-by year \\\n",
    "  --sequences-per-group 2 \\\n",
    "#   --min-date 1918"
   ]
  },
  {
   "cell_type": "markdown",
   "metadata": {},
   "source": [
    "### How much of the metadata can we remove and still have it survive the `augur filter` command?"
   ]
  }
 ],
 "metadata": {
  "kernelspec": {
   "display_name": "Python 3",
   "language": "python",
   "name": "python3"
  },
  "language_info": {
   "codemirror_mode": {
    "name": "ipython",
    "version": 3
   },
   "file_extension": ".py",
   "mimetype": "text/x-python",
   "name": "python",
   "nbconvert_exporter": "python",
   "pygments_lexer": "ipython3",
   "version": "3.6.7"
  }
 },
 "nbformat": 4,
 "nbformat_minor": 2
}
