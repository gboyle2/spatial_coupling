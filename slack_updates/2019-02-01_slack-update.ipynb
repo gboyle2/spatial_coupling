{
 "cells": [
  {
   "cell_type": "markdown",
   "metadata": {},
   "source": [
    "# 2/1/2019 Slack Update"
   ]
  },
  {
   "cell_type": "markdown",
   "metadata": {},
   "source": [
    "## Raw tree vs. time-resolved tree\n",
    "\n",
    "The two trees that augur makes (using TimeTree) look different than each other. It looked like there were fewer tips in the time-resolved tree, and I wanted to directly compare them to see if we were, indeed, losing tips. "
   ]
  },
  {
   "cell_type": "markdown",
   "metadata": {},
   "source": [
    "### Raw tree"
   ]
  },
  {
   "cell_type": "code",
   "execution_count": 22,
   "metadata": {
    "scrolled": true
   },
   "outputs": [
    {
     "name": "stdout",
     "output_type": "stream",
     "text": [
      "\n",
      "   /-PAN/CDC_259359_V1_V3/2015\n",
      "  |\n",
      "  |      /-COL/FLR_00024/2015\n",
      "  |   /-|\n",
      "  |--|   \\-COL/FLR_00008/2015\n",
      "  |  |\n",
      "  |   \\-VEN/UF_1/2016\n",
      "  |\n",
      "  |   /-Colombia/2016/ZC204Se\n",
      "  |  |\n",
      "  |  |      /-Brazil/2015/ZBRC301\n",
      "  |  |     |\n",
      "  |  |     |            /-Brazil/2015/ZBRA105\n",
      "--|  |     |           |\n",
      "  |  |     |           |               /-USA/2016/FL022\n",
      "  |  |     |           |            /-|\n",
      "  |  |     |           |         /-|   \\-USA/2016/FLWB042\n",
      "  |  |     |           |        |  |\n",
      "  |  |     |         /-|      /-|   \\-DOM/2016/BB_0059\n",
      "  |  |     |        |  |     |  |\n",
      "  |  |     |        |  |     |  |   /-USA/2016/FLUR022\n",
      "  |  |     |        |  |   /-|   \\-|\n",
      "  |  |     |        |  |  |  |      \\-Aedes_aegypti/USA/2016/FL05\n",
      "  |  |     |        |  |  |  |\n",
      "  |  |     |      /-|   \\-|  |   /-DOM/2016/BB_0183\n",
      "  |  |     |     |  |     |   \\-|\n",
      "  |  |     |     |  |     |      \\-DOM/2016/MA_WGS16_011\n",
      "   \\-|   /-|     |  |     |\n",
      "     |  |  |     |  |      \\-DOM/2016/BB_0433\n",
      "     |  |  |     |  |\n",
      "     |  |  |     |   \\-EcEs062_16\n",
      "     |  |  |   /-|\n",
      "     |  |  |  |  |            /-HND/2016/HU_ME59\n",
      "     |  |  |  |  |         /-|\n",
      "     |  |  |  |  |      /-|   \\-V8375\n",
      "     |  |  |  |  |     |  |\n",
      "     |  |  |  |  |   /-|   \\-Nica1_16\n",
      "     |  |  |  |  |  |  |\n",
      "     |  |  |  |   \\-|   \\-Brazil/2016/ZBRC16\n",
      "     |  |  |  |     |\n",
      "     |  |  |  |      \\-PRVABC59\n",
      "     |  |  |  |\n",
      "     |  |  |  |               /-ZKC2/2016\n",
      "     |  |  |  |            /-|\n",
      "     |  |   \\-|           |   \\-SMGC_1\n",
      "     |  |     |           |\n",
      "      \\-|     |           |            /-SG_027\n",
      "        |     |         /-|         /-|\n",
      "        |     |        |  |      /-|   \\-SG_074\n",
      "        |     |        |  |     |  |\n",
      "        |     |        |  |   /-|   \\-SG_056\n",
      "        |     |      /-|  |  |  |\n",
      "        |     |     |  |   \\-|   \\-SG_018\n",
      "        |     |     |  |     |\n",
      "        |     |     |  |      \\-Thailand/1610acTw\n",
      "        |     |   /-|  |\n",
      "        |     |  |  |   \\-1_0087_PF\n",
      "        |     |  |  |\n",
      "        |      \\-|  |   /-1_0181_PF\n",
      "        |        |   \\-|\n",
      "        |        |      \\-KX369547.1\n",
      "        |        |\n",
      "        |         \\-1_0199_PF\n",
      "        |\n",
      "        |   /-Brazil/2015/ZBRC303\n",
      "         \\-|\n",
      "            \\-BRA/2016/FC_6706\n"
     ]
    }
   ],
   "source": [
    "from ete3 import Tree\n",
    "\n",
    "tree_raw = Tree(\"../spatial_coupling/zika-tutorial/results/tree_raw.nwk\")\n",
    "print(tree_raw)"
   ]
  },
  {
   "cell_type": "markdown",
   "metadata": {},
   "source": [
    "### Time-resolved tree"
   ]
  },
  {
   "cell_type": "code",
   "execution_count": 23,
   "metadata": {
    "scrolled": true
   },
   "outputs": [
    {
     "name": "stdout",
     "output_type": "stream",
     "text": [
      "\n",
      "      /-Thailand/1610acTw\n",
      "     |\n",
      "   /-|   /-SG_018\n",
      "  |  |  |\n",
      "  |   \\-|   /-SG_056\n",
      "  |     |  |\n",
      "  |      \\-|--SG_027\n",
      "  |        |\n",
      "--|         \\-SG_074\n",
      "  |\n",
      "  |      /-ZKC2/2016\n",
      "  |   /-|\n",
      "  |  |   \\-SMGC_1\n",
      "  |  |\n",
      "  |  |   /-1_0087_PF\n",
      "   \\-|  |\n",
      "     |  |   /-1_0181_PF\n",
      "     |  |  |\n",
      "     |  |  |--1_0199_PF\n",
      "      \\-|  |\n",
      "        |  |      /-PRVABC59\n",
      "        |  |   /-|\n",
      "        |  |  |  |   /-Brazil/2016/ZBRC16\n",
      "        |  |  |   \\-|\n",
      "        |  |  |     |   /-V8375\n",
      "         \\-|  |      \\-|\n",
      "           |  |        |   /-HND/2016/HU_ME59\n",
      "           |  |         \\-|\n",
      "           |  |            \\-Nica1_16\n",
      "           |  |\n",
      "           |  |   /-Brazil/2015/ZBRC301\n",
      "           |  |  |\n",
      "           |  |  |   /-Brazil/2015/ZBRC303\n",
      "           |  |--|--|\n",
      "            \\-|  |   \\-BRA/2016/FC_6706\n",
      "              |  |\n",
      "              |  |   /-Colombia/2016/ZC204Se\n",
      "              |   \\-|\n",
      "              |     |   /-PAN/CDC_259359_V1_V3/2015\n",
      "              |      \\-|\n",
      "              |        |   /-VEN/UF_1/2016\n",
      "              |         \\-|\n",
      "              |           |   /-COL/FLR_00024/2015\n",
      "              |            \\-|\n",
      "              |               \\-COL/FLR_00008/2015\n",
      "              |\n",
      "              |   /-EcEs062_16\n",
      "              |  |\n",
      "               \\-|   /-Brazil/2015/ZBRA105\n",
      "                 |  |\n",
      "                  \\-|   /-DOM/2016/BB_0433\n",
      "                    |  |\n",
      "                     \\-|   /-DOM/2016/BB_0183\n",
      "                       |  |\n",
      "                       |  |--DOM/2016/MA_WGS16_011\n",
      "                        \\-|\n",
      "                          |      /-USA/2016/FLUR022\n",
      "                          |   /-|\n",
      "                          |  |   \\-Aedes_aegypti/USA/2016/FL05\n",
      "                           \\-|\n",
      "                             |   /-DOM/2016/BB_0059\n",
      "                              \\-|\n",
      "                                |   /-USA/2016/FL022\n",
      "                                 \\-|\n",
      "                                    \\-USA/2016/FLWB042\n"
     ]
    }
   ],
   "source": [
    "tree = Tree(\"../spatial_coupling/zika-tutorial/results/tree.nwk\", format=1)\n",
    "print(tree)"
   ]
  },
  {
   "cell_type": "markdown",
   "metadata": {},
   "source": [
    "### Build lists of the nodes on both trees"
   ]
  },
  {
   "cell_type": "code",
   "execution_count": 24,
   "metadata": {},
   "outputs": [],
   "source": [
    "from ete3 import TreeNode\n",
    "\n",
    "# List for raw tree nodes\n",
    "strains_raw = []\n",
    "for node in tree_raw.traverse(\"postorder\"):\n",
    "        strains_raw.append(node.name)\n",
    "\n",
    "# List for time-resolved tree nodes\n",
    "strains_tree = []\n",
    "for node in tree.traverse(\"postorder\"):\n",
    "    strains_tree.append(node.name)\n",
    "\n"
   ]
  },
  {
   "cell_type": "markdown",
   "metadata": {},
   "source": [
    "### Comparing the time-resolved tree to the raw tree\n",
    "\n",
    "The `overlap_TR` list contains all of the nodes that are in both trees\n",
    "\n",
    "The `excluded_TR` list contains all of the nodes that are in the time-resolved tree but not the raw tree"
   ]
  },
  {
   "cell_type": "code",
   "execution_count": 25,
   "metadata": {
    "scrolled": false
   },
   "outputs": [
    {
     "name": "stdout",
     "output_type": "stream",
     "text": [
      "TR-tree > Raw overlap:  ['Thailand/1610acTw', 'SG_018', 'SG_056', 'SG_027', 'SG_074', 'ZKC2/2016', 'SMGC_1', '1_0087_PF', '1_0181_PF', '1_0199_PF', 'PRVABC59', 'Brazil/2016/ZBRC16', 'V8375', 'HND/2016/HU_ME59', 'Nica1_16', 'Brazil/2015/ZBRC301', 'Brazil/2015/ZBRC303', 'BRA/2016/FC_6706', 'Colombia/2016/ZC204Se', 'PAN/CDC_259359_V1_V3/2015', 'VEN/UF_1/2016', 'COL/FLR_00024/2015', 'COL/FLR_00008/2015', 'EcEs062_16', 'Brazil/2015/ZBRA105', 'DOM/2016/BB_0433', 'DOM/2016/BB_0183', 'DOM/2016/MA_WGS16_011', 'USA/2016/FLUR022', 'Aedes_aegypti/USA/2016/FL05', 'DOM/2016/BB_0059', 'USA/2016/FL022', 'USA/2016/FLWB042'] \n",
      "\n",
      " TR-tree > Raw exclusion:  ['NODE_0000016', 'NODE_0000015', 'NODE_0000014', 'NODE_0000013', 'NODE_0000035', 'NODE_0000021', 'NODE_0000020', 'NODE_0000019', 'NODE_0000005', 'NODE_0000002', 'NODE_0000001', 'NODE_0000000', 'NODE_0000003', 'NODE_0000006', 'NODE_0000029', 'NODE_0000031', 'NODE_0000030', 'NODE_0000028', 'NODE_0000026', 'NODE_0000025', 'NODE_0000024', 'NODE_0000023', 'NODE_0000007', 'NODE_0000009', 'NODE_0000011', 'NODE_0000012', 'NODE_0000034']\n"
     ]
    }
   ],
   "source": [
    "# For TR-tree in Raw\n",
    "overlap_TR = []\n",
    "excluded_TR = []\n",
    "ignore = 0\n",
    "for TR in strains_tree:\n",
    "    for raw in strains_raw:\n",
    "        if raw == TR:\n",
    "            overlap_TR.append(TR)\n",
    "            ignore = 1\n",
    "    if ignore == 0 and TR not in excluded_TR:\n",
    "        excluded_TR.append(TR)\n",
    "    ignore = 0\n",
    "    \n",
    "print(\"TR-tree > Raw overlap: \", overlap_TR, \"\\n\\n\", \"TR-tree > Raw exclusion: \", excluded_TR)"
   ]
  },
  {
   "cell_type": "markdown",
   "metadata": {},
   "source": [
    "### Comparing the raw tree to the time-resolved tree\n",
    "\n",
    "The `overlap_raw` list contains all of the nodes that are in both trees\n",
    "\n",
    "The `excluded_raw` list contains all of the nodes that are in the raw tree but not the time-resolved tree"
   ]
  },
  {
   "cell_type": "code",
   "execution_count": 26,
   "metadata": {
    "scrolled": true
   },
   "outputs": [
    {
     "name": "stdout",
     "output_type": "stream",
     "text": [
      "Raw > TR-tree overlap:  ['PAN/CDC_259359_V1_V3/2015', 'COL/FLR_00024/2015', 'COL/FLR_00008/2015', 'VEN/UF_1/2016', 'Colombia/2016/ZC204Se', 'Brazil/2015/ZBRC301', 'Brazil/2015/ZBRA105', 'USA/2016/FL022', 'USA/2016/FLWB042', 'DOM/2016/BB_0059', 'USA/2016/FLUR022', 'Aedes_aegypti/USA/2016/FL05', 'DOM/2016/BB_0183', 'DOM/2016/MA_WGS16_011', 'DOM/2016/BB_0433', 'EcEs062_16', 'HND/2016/HU_ME59', 'V8375', 'Nica1_16', 'Brazil/2016/ZBRC16', 'PRVABC59', 'ZKC2/2016', 'SMGC_1', 'SG_027', 'SG_074', 'SG_056', 'SG_018', 'Thailand/1610acTw', '1_0087_PF', '1_0181_PF', '1_0199_PF', 'Brazil/2015/ZBRC303', 'BRA/2016/FC_6706'] \n",
      "\n",
      " Raw > TR-tree exclusion:  ['', 'KX369547.1'] \n",
      "\n",
      "Is overlap_raw == overlap _TR?:  True\n"
     ]
    }
   ],
   "source": [
    "# For Raw in TR-tree\n",
    "overlap_raw = []\n",
    "excluded_raw = []\n",
    "ignore = 0\n",
    "for raw in strains_raw:\n",
    "    for TR in strains_tree:\n",
    "        if raw == TR:\n",
    "            overlap_raw.append(raw)\n",
    "            ignore = 1\n",
    "    if ignore == 0 and raw not in excluded_raw:\n",
    "        excluded_raw.append(raw)\n",
    "    ignore = 0\n",
    "    \n",
    "print(\"Raw > TR-tree overlap: \", overlap_raw, \"\\n\\n\", \"Raw > TR-tree exclusion: \", excluded_raw, \"\\n\")\n",
    "print(\"Is overlap_raw == overlap _TR?: \", overlap_raw.sort() == overlap_TR.sort())"
   ]
  },
  {
   "cell_type": "markdown",
   "metadata": {},
   "source": [
    "This looks like we expect it to. Both comparisons yield the same overlapping tips. From **raw** to **time-resolved** we lose tip \"KX369547.1\" which is fine, because this was removed by the `clock-filter-iqd 4` function which discards tips that deviate more than 4 interquartile ranges. \n",
    "\n",
    "We see several \"NODE_####\" nodes in the time-resolved tree which is a little bit confusing since all we did was run `augur refine` which feeds in our `metadata.tsv` information (with columns: strain, virus, accession, date, region, country, division, city, db, segment, authors, url, title, journal, paper_url) to get our time-resolved tree from our raw. Maybe these nodes are created as references for the branch_lengths.json file given to us by `--output-node-data zika-tutorial/results/branch_lengths.json`?"
   ]
  },
  {
   "cell_type": "markdown",
   "metadata": {},
   "source": [
    "## Do the mutation .json files make sense?\n",
    "\n"
   ]
  },
  {
   "cell_type": "markdown",
   "metadata": {},
   "source": [
    "### We have: `nt_muts.json` :"
   ]
  },
  {
   "cell_type": "code",
   "execution_count": 27,
   "metadata": {},
   "outputs": [
    {
     "name": "stdout",
     "output_type": "stream",
     "text": [
      "\"1_0087_PF\" [\n",
      "    \"C3433T\",\n",
      "    \"A3639G\",\n",
      "    \"G8478A\"\n",
      "]\n"
     ]
    }
   ],
   "source": [
    "import json\n",
    "with open(\"../spatial_coupling/zika-tutorial/results/nt_muts.json\") as nt_muts:\n",
    "    data = json.load(nt_muts)\n",
    "\n",
    "# Nucleotide mutations in first node as an example    \n",
    "print(json.dumps(next(iter(data['nodes'])), indent=4), json.dumps(data['nodes']['1_0087_PF']['muts'],indent=4))\n",
    "\n",
    "# To print the whole file:\n",
    "# print(json.dumps(data['nodes'], indent=4))"
   ]
  },
  {
   "cell_type": "markdown",
   "metadata": {},
   "source": [
    "### and `aa_muts.json` : "
   ]
  },
  {
   "cell_type": "code",
   "execution_count": 28,
   "metadata": {},
   "outputs": [
    {
     "name": "stdout",
     "output_type": "stream",
     "text": [
      "\"1_0087_PF\" {\n",
      "    \"aa_muts\": {\n",
      "        \"2K\": [],\n",
      "        \"CA\": [],\n",
      "        \"ENV\": [],\n",
      "        \"MP\": [],\n",
      "        \"NS1\": [],\n",
      "        \"NS2A\": [],\n",
      "        \"NS2B\": [],\n",
      "        \"NS3\": [],\n",
      "        \"NS4A\": [],\n",
      "        \"NS4B\": [],\n",
      "        \"NS5\": [],\n",
      "        \"PRO\": []\n",
      "    }\n",
      "}\n"
     ]
    }
   ],
   "source": [
    "with open(\"../spatial_coupling/zika-tutorial/results/aa_muts.json\") as aa_muts:\n",
    "    data = json.load(aa_muts)\n",
    "\n",
    "# This is kind of a crappy example since there are no mutations in the first node\n",
    "print(json.dumps(next(iter(data['nodes'])), indent=4), \n",
    "      json.dumps(next(iter(data['nodes'].values())), indent=4))\n",
    "\n",
    "# How is it possible that so many strains don't have mutations?\n",
    "# Full output of the file:\n",
    "# print(json.dumps(data['nodes'], indent=4))"
   ]
  },
  {
   "cell_type": "markdown",
   "metadata": {},
   "source": [
    "### What do the mutations listed in this `.json` file refer to? If the answer is \"mutations adopted from the parent node\" why don't we see more mutations throughout?\n",
    "I've just printed the first node as an example here, but it seems odd that there are no amino acid mutations listed for this (and many other) nodes. Sarah and I initially wanted to compare the \"aa_muts\" dictionaries between all nodes to confirm that we were seeing more divergence as we moved down the tree, but I was having trouble iterating through nested dictionaries since dictionaries aren't ordered. As we were discussing the problem, we decided a quicker sanity check would be to simply ask whether the nucleotide mutations listed in node `1_0087_PF` could be found in its sequence. We, then, weren't sure if the notation `\"C3433T\"` meant basepair number 3433 in the **sequence** or in the **protein** (like \"ENV\" or \"MP\"). I now realize the answer is obvious (it's the **sequence** because the `nt_muts.json` file doesn't have the mutations nested within proteins like the `aa_muts.json` file does), but we decided it'd be worthwhile to switch to HA now and get the augur pipeline working on our virus of interest before we: 1) spend time trying to answer questions that may be irrelevant to influenza, and/or 2) overlook more prominent questions that may arise when we look at a virus whose tree structure is quite different from zika virus\n"
   ]
  },
  {
   "cell_type": "markdown",
   "metadata": {},
   "source": [
    "## What next?\n",
    "\n",
    "1. Decide what `augur` settings to keep from the zika tutorial\n",
    "2. Create my influenza HA tree\n",
    "3. Follow up on my recent \"sanity check\" questions "
   ]
  }
 ],
 "metadata": {
  "kernelspec": {
   "display_name": "Python 3",
   "language": "python",
   "name": "python3"
  },
  "language_info": {
   "codemirror_mode": {
    "name": "ipython",
    "version": 3
   },
   "file_extension": ".py",
   "mimetype": "text/x-python",
   "name": "python",
   "nbconvert_exporter": "python",
   "pygments_lexer": "ipython3",
   "version": "3.6.7"
  }
 },
 "nbformat": 4,
 "nbformat_minor": 2
}
